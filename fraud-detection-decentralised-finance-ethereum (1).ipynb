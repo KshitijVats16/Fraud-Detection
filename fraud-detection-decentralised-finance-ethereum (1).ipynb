{
 "cells": [
  {
   "cell_type": "code",
   "execution_count": 1,
   "id": "c39b0476",
   "metadata": {
    "_cell_guid": "b1076dfc-b9ad-4769-8c92-a6c4dae69d19",
    "_uuid": "8f2839f25d086af736a60e9eeb907d3b93b6e0e5",
    "execution": {
     "iopub.execute_input": "2024-12-26T12:03:00.400030Z",
     "iopub.status.busy": "2024-12-26T12:03:00.399722Z",
     "iopub.status.idle": "2024-12-26T12:03:01.103403Z",
     "shell.execute_reply": "2024-12-26T12:03:01.102374Z"
    },
    "papermill": {
     "duration": 0.710081,
     "end_time": "2024-12-26T12:03:01.105294",
     "exception": false,
     "start_time": "2024-12-26T12:03:00.395213",
     "status": "completed"
    },
    "tags": []
   },
   "outputs": [
    {
     "name": "stdout",
     "output_type": "stream",
     "text": [
      "   Unnamed: 0  Index                                     Address  FLAG  \\\n",
      "0           0      1  0x00009277775ac7d0d59eaad8fee3d10ac6c805e8     0   \n",
      "1           1      2  0x0002b44ddb1476db43c868bd494422ee4c136fed     0   \n",
      "2           2      3  0x0002bda54cb772d040f779e88eb453cac0daa244     0   \n",
      "3           3      4  0x00038e6ba2fd5c09aedb96697c8d7b8fa6632e5e     0   \n",
      "4           4      5  0x00062d1dd1afb6fb02540ddad9cdebfe568e0d89     0   \n",
      "\n",
      "   Avg min between sent tnx  Avg min between received tnx  \\\n",
      "0                    844.26                       1093.71   \n",
      "1                  12709.07                       2958.44   \n",
      "2                 246194.54                       2434.02   \n",
      "3                  10219.60                      15785.09   \n",
      "4                     36.61                      10707.77   \n",
      "\n",
      "   Time Diff between first and last (Mins)  Sent tnx  Received Tnx  \\\n",
      "0                                704785.63       721            89   \n",
      "1                               1218216.73        94             8   \n",
      "2                                516729.30         2            10   \n",
      "3                                397555.90        25             9   \n",
      "4                                382472.42      4598            20   \n",
      "\n",
      "   Number of Created Contracts  ...   ERC20 min val sent   ERC20 max val sent  \\\n",
      "0                            0  ...             0.000000         1.683100e+07   \n",
      "1                            0  ...             2.260809         2.260809e+00   \n",
      "2                            0  ...             0.000000         0.000000e+00   \n",
      "3                            0  ...           100.000000         9.029231e+03   \n",
      "4                            1  ...             0.000000         4.500000e+04   \n",
      "\n",
      "    ERC20 avg val sent   ERC20 min val sent contract  \\\n",
      "0        271779.920000                           0.0   \n",
      "1             2.260809                           0.0   \n",
      "2             0.000000                           0.0   \n",
      "3          3804.076893                           0.0   \n",
      "4         13726.659220                           0.0   \n",
      "\n",
      "    ERC20 max val sent contract   ERC20 avg val sent contract  \\\n",
      "0                           0.0                           0.0   \n",
      "1                           0.0                           0.0   \n",
      "2                           0.0                           0.0   \n",
      "3                           0.0                           0.0   \n",
      "4                           0.0                           0.0   \n",
      "\n",
      "    ERC20 uniq sent token name   ERC20 uniq rec token name  \\\n",
      "0                         39.0                        57.0   \n",
      "1                          1.0                         7.0   \n",
      "2                          0.0                         8.0   \n",
      "3                          1.0                        11.0   \n",
      "4                          6.0                        27.0   \n",
      "\n",
      "    ERC20 most sent token type   ERC20_most_rec_token_type  \n",
      "0                    Cofoundit                   Numeraire  \n",
      "1               Livepeer Token              Livepeer Token  \n",
      "2                          NaN                       XENON  \n",
      "3                       Raiden                       XENON  \n",
      "4                StatusNetwork                         EOS  \n",
      "\n",
      "[5 rows x 51 columns]\n"
     ]
    }
   ],
   "source": [
    "import pandas as pd\n",
    "\n",
    "df = pd.read_csv(\"/kaggle/input/transaction-dataset-csv/transaction_dataset.csv\")  \n",
    "\n",
    "# Preview the dataset\n",
    "print(df.head())\n"
   ]
  },
  {
   "cell_type": "code",
   "execution_count": 2,
   "id": "b3298097",
   "metadata": {
    "execution": {
     "iopub.execute_input": "2024-12-26T12:03:01.113961Z",
     "iopub.status.busy": "2024-12-26T12:03:01.113668Z",
     "iopub.status.idle": "2024-12-26T12:03:01.122197Z",
     "shell.execute_reply": "2024-12-26T12:03:01.121447Z"
    },
    "papermill": {
     "duration": 0.013549,
     "end_time": "2024-12-26T12:03:01.123335",
     "exception": false,
     "start_time": "2024-12-26T12:03:01.109786",
     "status": "completed"
    },
    "tags": []
   },
   "outputs": [
    {
     "name": "stdout",
     "output_type": "stream",
     "text": [
      "Remaining columns: ['Unnamed: 0', 'Index', 'FLAG', 'Avg min between sent tnx', 'Avg min between received tnx', 'Time Diff between first and last (Mins)', 'Sent tnx', 'Received Tnx', 'Number of Created Contracts', 'Unique Received From Addresses', 'Unique Sent To Addresses', 'min value received', 'max value received ', 'avg val received', 'min val sent', 'max val sent', 'avg val sent', 'min value sent to contract', 'max val sent to contract', 'avg value sent to contract', 'total transactions (including tnx to create contract', 'total Ether sent', 'total ether received', 'total ether sent contracts', 'total ether balance', ' Total ERC20 tnxs', ' ERC20 total Ether received', ' ERC20 total ether sent', ' ERC20 total Ether sent contract', ' ERC20 uniq sent addr', ' ERC20 uniq rec addr', ' ERC20 uniq sent addr.1', ' ERC20 uniq rec contract addr', ' ERC20 avg time between sent tnx', ' ERC20 avg time between rec tnx', ' ERC20 avg time between rec 2 tnx', ' ERC20 avg time between contract tnx', ' ERC20 min val rec', ' ERC20 max val rec', ' ERC20 avg val rec', ' ERC20 min val sent', ' ERC20 max val sent', ' ERC20 avg val sent', ' ERC20 min val sent contract', ' ERC20 max val sent contract', ' ERC20 avg val sent contract', ' ERC20 uniq sent token name', ' ERC20 uniq rec token name', ' ERC20 most sent token type', ' ERC20_most_rec_token_type']\n"
     ]
    }
   ],
   "source": [
    "# Dropping unnecessary columns, but keep the target column (e.g., FLAG)\n",
    "columns_to_remove = [\"Address\"]  \n",
    "df = df.drop(columns=columns_to_remove, axis=1)\n",
    "\n",
    "print(f\"Remaining columns: {list(df.columns)}\")\n"
   ]
  },
  {
   "cell_type": "code",
   "execution_count": 3,
   "id": "a0779ee7",
   "metadata": {
    "execution": {
     "iopub.execute_input": "2024-12-26T12:03:01.129992Z",
     "iopub.status.busy": "2024-12-26T12:03:01.129772Z",
     "iopub.status.idle": "2024-12-26T12:03:01.143384Z",
     "shell.execute_reply": "2024-12-26T12:03:01.142427Z"
    },
    "papermill": {
     "duration": 0.01821,
     "end_time": "2024-12-26T12:03:01.144615",
     "exception": false,
     "start_time": "2024-12-26T12:03:01.126405",
     "status": "completed"
    },
    "tags": []
   },
   "outputs": [
    {
     "name": "stdout",
     "output_type": "stream",
     "text": [
      "Unnamed: 0                                                 0\n",
      "Index                                                      0\n",
      "FLAG                                                       0\n",
      "Avg min between sent tnx                                   0\n",
      "Avg min between received tnx                               0\n",
      "Time Diff between first and last (Mins)                    0\n",
      "Sent tnx                                                   0\n",
      "Received Tnx                                               0\n",
      "Number of Created Contracts                                0\n",
      "Unique Received From Addresses                             0\n",
      "Unique Sent To Addresses                                   0\n",
      "min value received                                         0\n",
      "max value received                                         0\n",
      "avg val received                                           0\n",
      "min val sent                                               0\n",
      "max val sent                                               0\n",
      "avg val sent                                               0\n",
      "min value sent to contract                                 0\n",
      "max val sent to contract                                   0\n",
      "avg value sent to contract                                 0\n",
      "total transactions (including tnx to create contract       0\n",
      "total Ether sent                                           0\n",
      "total ether received                                       0\n",
      "total ether sent contracts                                 0\n",
      "total ether balance                                        0\n",
      " Total ERC20 tnxs                                        829\n",
      " ERC20 total Ether received                              829\n",
      " ERC20 total ether sent                                  829\n",
      " ERC20 total Ether sent contract                         829\n",
      " ERC20 uniq sent addr                                    829\n",
      " ERC20 uniq rec addr                                     829\n",
      " ERC20 uniq sent addr.1                                  829\n",
      " ERC20 uniq rec contract addr                            829\n",
      " ERC20 avg time between sent tnx                         829\n",
      " ERC20 avg time between rec tnx                          829\n",
      " ERC20 avg time between rec 2 tnx                        829\n",
      " ERC20 avg time between contract tnx                     829\n",
      " ERC20 min val rec                                       829\n",
      " ERC20 max val rec                                       829\n",
      " ERC20 avg val rec                                       829\n",
      " ERC20 min val sent                                      829\n",
      " ERC20 max val sent                                      829\n",
      " ERC20 avg val sent                                      829\n",
      " ERC20 min val sent contract                             829\n",
      " ERC20 max val sent contract                             829\n",
      " ERC20 avg val sent contract                             829\n",
      " ERC20 uniq sent token name                              829\n",
      " ERC20 uniq rec token name                               829\n",
      " ERC20 most sent token type                             2697\n",
      " ERC20_most_rec_token_type                               871\n",
      "dtype: int64\n"
     ]
    }
   ],
   "source": [
    "# handling missing values \n",
    "print(df.isnull().sum())\n",
    "\n",
    "# Option 1: Drop columns with too many missing values\n",
    "df = df.dropna(axis=1, thresh=int(0.9 * len(df)))  # Remove columns with more than 10% missing values\n",
    "\n",
    "\n",
    "df = df.fillna(0)  "
   ]
  },
  {
   "cell_type": "code",
   "execution_count": 4,
   "id": "874e7694",
   "metadata": {
    "execution": {
     "iopub.execute_input": "2024-12-26T12:03:01.151248Z",
     "iopub.status.busy": "2024-12-26T12:03:01.151027Z",
     "iopub.status.idle": "2024-12-26T12:03:01.154758Z",
     "shell.execute_reply": "2024-12-26T12:03:01.153999Z"
    },
    "papermill": {
     "duration": 0.008404,
     "end_time": "2024-12-26T12:03:01.156057",
     "exception": false,
     "start_time": "2024-12-26T12:03:01.147653",
     "status": "completed"
    },
    "tags": []
   },
   "outputs": [
    {
     "name": "stdout",
     "output_type": "stream",
     "text": [
      "Dataset shape: (9841, 49)\n"
     ]
    }
   ],
   "source": [
    "print(f\"Dataset shape: {df.shape}\")\n"
   ]
  },
  {
   "cell_type": "code",
   "execution_count": 5,
   "id": "e450baf0",
   "metadata": {
    "execution": {
     "iopub.execute_input": "2024-12-26T12:03:01.163027Z",
     "iopub.status.busy": "2024-12-26T12:03:01.162823Z",
     "iopub.status.idle": "2024-12-26T12:03:01.166631Z",
     "shell.execute_reply": "2024-12-26T12:03:01.166036Z"
    },
    "papermill": {
     "duration": 0.00867,
     "end_time": "2024-12-26T12:03:01.167923",
     "exception": false,
     "start_time": "2024-12-26T12:03:01.159253",
     "status": "completed"
    },
    "tags": []
   },
   "outputs": [],
   "source": [
    "df = df.drop(['Unnamed: 0', 'Index'], axis=1, errors='ignore')  # Dropping irrelevant columns if present\n"
   ]
  },
  {
   "cell_type": "code",
   "execution_count": 6,
   "id": "1b3c1097",
   "metadata": {
    "execution": {
     "iopub.execute_input": "2024-12-26T12:03:01.174768Z",
     "iopub.status.busy": "2024-12-26T12:03:01.174543Z",
     "iopub.status.idle": "2024-12-26T12:03:01.179570Z",
     "shell.execute_reply": "2024-12-26T12:03:01.178547Z"
    },
    "papermill": {
     "duration": 0.00995,
     "end_time": "2024-12-26T12:03:01.180991",
     "exception": false,
     "start_time": "2024-12-26T12:03:01.171041",
     "status": "completed"
    },
    "tags": []
   },
   "outputs": [
    {
     "name": "stdout",
     "output_type": "stream",
     "text": [
      "FLAG                                                      int64\n",
      "Avg min between sent tnx                                float64\n",
      "Avg min between received tnx                            float64\n",
      "Time Diff between first and last (Mins)                 float64\n",
      "Sent tnx                                                  int64\n",
      "Received Tnx                                              int64\n",
      "Number of Created Contracts                               int64\n",
      "Unique Received From Addresses                            int64\n",
      "Unique Sent To Addresses                                  int64\n",
      "min value received                                      float64\n",
      "max value received                                      float64\n",
      "avg val received                                        float64\n",
      "min val sent                                            float64\n",
      "max val sent                                            float64\n",
      "avg val sent                                            float64\n",
      "min value sent to contract                              float64\n",
      "max val sent to contract                                float64\n",
      "avg value sent to contract                              float64\n",
      "total transactions (including tnx to create contract      int64\n",
      "total Ether sent                                        float64\n",
      "total ether received                                    float64\n",
      "total ether sent contracts                              float64\n",
      "total ether balance                                     float64\n",
      " Total ERC20 tnxs                                       float64\n",
      " ERC20 total Ether received                             float64\n",
      " ERC20 total ether sent                                 float64\n",
      " ERC20 total Ether sent contract                        float64\n",
      " ERC20 uniq sent addr                                   float64\n",
      " ERC20 uniq rec addr                                    float64\n",
      " ERC20 uniq sent addr.1                                 float64\n",
      " ERC20 uniq rec contract addr                           float64\n",
      " ERC20 avg time between sent tnx                        float64\n",
      " ERC20 avg time between rec tnx                         float64\n",
      " ERC20 avg time between rec 2 tnx                       float64\n",
      " ERC20 avg time between contract tnx                    float64\n",
      " ERC20 min val rec                                      float64\n",
      " ERC20 max val rec                                      float64\n",
      " ERC20 avg val rec                                      float64\n",
      " ERC20 min val sent                                     float64\n",
      " ERC20 max val sent                                     float64\n",
      " ERC20 avg val sent                                     float64\n",
      " ERC20 min val sent contract                            float64\n",
      " ERC20 max val sent contract                            float64\n",
      " ERC20 avg val sent contract                            float64\n",
      " ERC20 uniq sent token name                             float64\n",
      " ERC20 uniq rec token name                              float64\n",
      " ERC20_most_rec_token_type                               object\n",
      "dtype: object\n"
     ]
    }
   ],
   "source": [
    "print(df.dtypes)\n"
   ]
  },
  {
   "cell_type": "code",
   "execution_count": 7,
   "id": "7963d396",
   "metadata": {
    "execution": {
     "iopub.execute_input": "2024-12-26T12:03:01.188803Z",
     "iopub.status.busy": "2024-12-26T12:03:01.188572Z",
     "iopub.status.idle": "2024-12-26T12:03:01.196328Z",
     "shell.execute_reply": "2024-12-26T12:03:01.195643Z"
    },
    "papermill": {
     "duration": 0.012833,
     "end_time": "2024-12-26T12:03:01.197454",
     "exception": false,
     "start_time": "2024-12-26T12:03:01.184621",
     "status": "completed"
    },
    "tags": []
   },
   "outputs": [
    {
     "name": "stdout",
     "output_type": "stream",
     "text": [
      "FLAG\n",
      "0    7662\n",
      "1    2179\n",
      "Name: count, dtype: int64\n"
     ]
    }
   ],
   "source": [
    "print(df['FLAG'].value_counts())\n"
   ]
  },
  {
   "cell_type": "code",
   "execution_count": 8,
   "id": "f31a0aa3",
   "metadata": {
    "execution": {
     "iopub.execute_input": "2024-12-26T12:03:01.204557Z",
     "iopub.status.busy": "2024-12-26T12:03:01.204364Z",
     "iopub.status.idle": "2024-12-26T12:03:01.224037Z",
     "shell.execute_reply": "2024-12-26T12:03:01.223488Z"
    },
    "papermill": {
     "duration": 0.024472,
     "end_time": "2024-12-26T12:03:01.225231",
     "exception": false,
     "start_time": "2024-12-26T12:03:01.200759",
     "status": "completed"
    },
    "tags": []
   },
   "outputs": [],
   "source": [
    "df = pd.get_dummies(df, drop_first=True)\n"
   ]
  },
  {
   "cell_type": "code",
   "execution_count": 9,
   "id": "c276943a",
   "metadata": {
    "execution": {
     "iopub.execute_input": "2024-12-26T12:03:01.232523Z",
     "iopub.status.busy": "2024-12-26T12:03:01.232331Z",
     "iopub.status.idle": "2024-12-26T12:03:02.078542Z",
     "shell.execute_reply": "2024-12-26T12:03:02.077777Z"
    },
    "papermill": {
     "duration": 0.85153,
     "end_time": "2024-12-26T12:03:02.080255",
     "exception": false,
     "start_time": "2024-12-26T12:03:01.228725",
     "status": "completed"
    },
    "tags": []
   },
   "outputs": [],
   "source": [
    "from sklearn.preprocessing import MinMaxScaler\n",
    "\n",
    "scaler = MinMaxScaler()\n",
    "numerical_features = df.select_dtypes(include=['float64', 'int64']).columns\n",
    "df[numerical_features] = scaler.fit_transform(df[numerical_features])\n"
   ]
  },
  {
   "cell_type": "code",
   "execution_count": 10,
   "id": "e9909a23",
   "metadata": {
    "execution": {
     "iopub.execute_input": "2024-12-26T12:03:02.088920Z",
     "iopub.status.busy": "2024-12-26T12:03:02.088530Z",
     "iopub.status.idle": "2024-12-26T12:03:02.095089Z",
     "shell.execute_reply": "2024-12-26T12:03:02.094233Z"
    },
    "papermill": {
     "duration": 0.011959,
     "end_time": "2024-12-26T12:03:02.096364",
     "exception": false,
     "start_time": "2024-12-26T12:03:02.084405",
     "status": "completed"
    },
    "tags": []
   },
   "outputs": [],
   "source": [
    "X = df.drop('FLAG', axis=1)  # Removing target variable from features\n",
    "y = df['FLAG']  # Target variable\n"
   ]
  },
  {
   "cell_type": "code",
   "execution_count": 11,
   "id": "3ca3a445",
   "metadata": {
    "execution": {
     "iopub.execute_input": "2024-12-26T12:03:02.103463Z",
     "iopub.status.busy": "2024-12-26T12:03:02.103265Z",
     "iopub.status.idle": "2024-12-26T12:03:02.192206Z",
     "shell.execute_reply": "2024-12-26T12:03:02.191527Z"
    },
    "papermill": {
     "duration": 0.09389,
     "end_time": "2024-12-26T12:03:02.193555",
     "exception": false,
     "start_time": "2024-12-26T12:03:02.099665",
     "status": "completed"
    },
    "tags": []
   },
   "outputs": [],
   "source": [
    "from sklearn.model_selection import train_test_split\n",
    "\n",
    "X_train, X_test, y_train, y_test = train_test_split(X, y, test_size=0.2, random_state=42)\n"
   ]
  },
  {
   "cell_type": "code",
   "execution_count": 12,
   "id": "a2385a32",
   "metadata": {
    "execution": {
     "iopub.execute_input": "2024-12-26T12:03:02.200820Z",
     "iopub.status.busy": "2024-12-26T12:03:02.200576Z",
     "iopub.status.idle": "2024-12-26T12:03:06.887026Z",
     "shell.execute_reply": "2024-12-26T12:03:06.885994Z"
    },
    "papermill": {
     "duration": 4.691638,
     "end_time": "2024-12-26T12:03:06.888565",
     "exception": false,
     "start_time": "2024-12-26T12:03:02.196927",
     "status": "completed"
    },
    "tags": []
   },
   "outputs": [
    {
     "name": "stdout",
     "output_type": "stream",
     "text": [
      "Collecting reservoirpy\r\n",
      "  Downloading reservoirpy-0.3.12-py3-none-any.whl.metadata (13 kB)\r\n",
      "Requirement already satisfied: numpy in /usr/local/lib/python3.10/dist-packages (1.26.4)\r\n",
      "Requirement already satisfied: pandas in /usr/local/lib/python3.10/dist-packages (2.1.4)\r\n",
      "Requirement already satisfied: scikit-learn in /usr/local/lib/python3.10/dist-packages (1.2.2)\r\n",
      "Requirement already satisfied: matplotlib in /usr/local/lib/python3.10/dist-packages (3.7.1)\r\n",
      "Requirement already satisfied: dill>=0.3.1.1 in /usr/local/lib/python3.10/dist-packages (from reservoirpy) (0.3.8)\r\n",
      "Requirement already satisfied: joblib>=0.14.1 in /usr/local/lib/python3.10/dist-packages (from reservoirpy) (1.4.2)\r\n",
      "Requirement already satisfied: scipy>=1.4.1 in /usr/local/lib/python3.10/dist-packages (from reservoirpy) (1.13.1)\r\n",
      "Requirement already satisfied: tqdm>=4.43.0 in /usr/local/lib/python3.10/dist-packages (from reservoirpy) (4.66.5)\r\n",
      "Requirement already satisfied: python-dateutil>=2.8.2 in /usr/local/lib/python3.10/dist-packages (from pandas) (2.8.2)\r\n",
      "Requirement already satisfied: pytz>=2020.1 in /usr/local/lib/python3.10/dist-packages (from pandas) (2024.2)\r\n",
      "Requirement already satisfied: tzdata>=2022.1 in /usr/local/lib/python3.10/dist-packages (from pandas) (2024.1)\r\n",
      "Requirement already satisfied: threadpoolctl>=2.0.0 in /usr/local/lib/python3.10/dist-packages (from scikit-learn) (3.5.0)\r\n",
      "Requirement already satisfied: contourpy>=1.0.1 in /usr/local/lib/python3.10/dist-packages (from matplotlib) (1.3.0)\r\n",
      "Requirement already satisfied: cycler>=0.10 in /usr/local/lib/python3.10/dist-packages (from matplotlib) (0.12.1)\r\n",
      "Requirement already satisfied: fonttools>=4.22.0 in /usr/local/lib/python3.10/dist-packages (from matplotlib) (4.53.1)\r\n",
      "Requirement already satisfied: kiwisolver>=1.0.1 in /usr/local/lib/python3.10/dist-packages (from matplotlib) (1.4.7)\r\n",
      "Requirement already satisfied: packaging>=20.0 in /usr/local/lib/python3.10/dist-packages (from matplotlib) (24.1)\r\n",
      "Requirement already satisfied: pillow>=6.2.0 in /usr/local/lib/python3.10/dist-packages (from matplotlib) (10.4.0)\r\n",
      "Requirement already satisfied: pyparsing>=2.3.1 in /usr/local/lib/python3.10/dist-packages (from matplotlib) (3.1.4)\r\n",
      "Requirement already satisfied: six>=1.5 in /usr/local/lib/python3.10/dist-packages (from python-dateutil>=2.8.2->pandas) (1.16.0)\r\n",
      "Downloading reservoirpy-0.3.12-py3-none-any.whl (202 kB)\r\n",
      "\u001b[2K   \u001b[90m━━━━━━━━━━━━━━━━━━━━━━━━━━━━━━━━━━━━━━━━\u001b[0m \u001b[32m202.5/202.5 kB\u001b[0m \u001b[31m5.5 MB/s\u001b[0m eta \u001b[36m0:00:00\u001b[0m\r\n",
      "\u001b[?25hInstalling collected packages: reservoirpy\r\n",
      "Successfully installed reservoirpy-0.3.12\r\n"
     ]
    }
   ],
   "source": [
    "!pip install reservoirpy numpy pandas scikit-learn matplotlib\n"
   ]
  },
  {
   "cell_type": "code",
   "execution_count": 13,
   "id": "897f8947",
   "metadata": {
    "execution": {
     "iopub.execute_input": "2024-12-26T12:03:06.897842Z",
     "iopub.status.busy": "2024-12-26T12:03:06.897558Z",
     "iopub.status.idle": "2024-12-26T12:03:07.430783Z",
     "shell.execute_reply": "2024-12-26T12:03:07.430037Z"
    },
    "papermill": {
     "duration": 0.539183,
     "end_time": "2024-12-26T12:03:07.432218",
     "exception": false,
     "start_time": "2024-12-26T12:03:06.893035",
     "status": "completed"
    },
    "tags": []
   },
   "outputs": [
    {
     "name": "stdout",
     "output_type": "stream",
     "text": [
      "Train shape: (7872, 511)\n",
      "Test shape: (1969, 511)\n"
     ]
    }
   ],
   "source": [
    "import numpy as np\n",
    "import pandas as pd\n",
    "from sklearn.model_selection import train_test_split\n",
    "from sklearn.preprocessing import MinMaxScaler\n",
    "\n",
    "\n",
    "X = df.drop(columns=[\"FLAG\"]).values  # Features\n",
    "y = df[\"FLAG\"].values  # Target\n",
    "\n",
    "# Normalize features to [0, 1] for stability\n",
    "scaler = MinMaxScaler()\n",
    "X_scaled = scaler.fit_transform(X)\n",
    "\n",
    "# Train-test split\n",
    "X_train, X_test, y_train, y_test = train_test_split(X_scaled, y, test_size=0.2, random_state=42)\n",
    "\n",
    "print(\"Train shape:\", X_train.shape)\n",
    "print(\"Test shape:\", X_test.shape)\n"
   ]
  },
  {
   "cell_type": "code",
   "execution_count": 14,
   "id": "0e4ba6c1",
   "metadata": {
    "execution": {
     "iopub.execute_input": "2024-12-26T12:03:07.440845Z",
     "iopub.status.busy": "2024-12-26T12:03:07.440574Z",
     "iopub.status.idle": "2024-12-26T12:03:09.591849Z",
     "shell.execute_reply": "2024-12-26T12:03:09.590958Z"
    },
    "papermill": {
     "duration": 2.1583,
     "end_time": "2024-12-26T12:03:09.594494",
     "exception": false,
     "start_time": "2024-12-26T12:03:07.436194",
     "status": "completed"
    },
    "tags": []
   },
   "outputs": [
    {
     "name": "stderr",
     "output_type": "stream",
     "text": [
      "Running Reservoir-0: 100%|██████████| 7872/7872 [00:01<00:00, 6011.45it/s]\n",
      "Running Reservoir-0: 100%|██████████| 1969/1969 [00:00<00:00, 6063.99it/s]\n"
     ]
    },
    {
     "name": "stdout",
     "output_type": "stream",
     "text": [
      "Root Mean Squared Error: 0.22627681874386854\n"
     ]
    }
   ],
   "source": [
    "from reservoirpy.nodes import Reservoir\n",
    "from sklearn.linear_model import Ridge\n",
    "\n",
    "# Define ESN hyperparameters\n",
    "reservoir_size = 500\n",
    "spectral_radius = 0.9\n",
    "\n",
    "# Initialize the ESN reservoir\n",
    "reservoir = Reservoir(\n",
    "    units=reservoir_size,\n",
    "    sr=spectral_radius,\n",
    "    input_scaling=0.1,\n",
    "    bias_scaling=0.2\n",
    ")\n",
    "\n",
    "# Step 1: Get the reservoir states (hidden states) for the training and test data using the run() method\n",
    "X_reservoir_train = reservoir.run(X_train)  # Get the hidden states for training\n",
    "X_reservoir_test = reservoir.run(X_test)  # Get the hidden states for testing\n",
    "\n",
    "# Step 2: Train the readout layer (Ridge regression) on the training reservoir states\n",
    "readout = Ridge(alpha=1e-6)  # Initialize Ridge with regularization\n",
    "readout.fit(X_reservoir_train, y_train)  # Fit Ridge regression on the training data\n",
    "\n",
    "# Step 3: Make predictions on the test data using the trained readout\n",
    "predictions = readout.predict(X_reservoir_test)\n",
    "\n",
    "# Step 4: Evaluate the model (using RMSE here)\n",
    "rmse = np.sqrt(np.mean((predictions - y_test) ** 2))\n",
    "print(f\"Root Mean Squared Error: {rmse}\")\n"
   ]
  },
  {
   "cell_type": "code",
   "execution_count": 15,
   "id": "a243b118",
   "metadata": {
    "execution": {
     "iopub.execute_input": "2024-12-26T12:03:09.632955Z",
     "iopub.status.busy": "2024-12-26T12:03:09.631058Z",
     "iopub.status.idle": "2024-12-26T12:03:09.675077Z",
     "shell.execute_reply": "2024-12-26T12:03:09.673341Z"
    },
    "papermill": {
     "duration": 0.065327,
     "end_time": "2024-12-26T12:03:09.677590",
     "exception": false,
     "start_time": "2024-12-26T12:03:09.612263",
     "status": "completed"
    },
    "tags": []
   },
   "outputs": [
    {
     "name": "stdout",
     "output_type": "stream",
     "text": [
      "Accuracy: 0.9558151345860844\n",
      "Confusion Matrix:\n",
      "[[1490   52]\n",
      " [  35  392]]\n",
      "Classification Report:\n",
      "              precision    recall  f1-score   support\n",
      "\n",
      "         0.0       0.98      0.97      0.97      1542\n",
      "         1.0       0.88      0.92      0.90       427\n",
      "\n",
      "    accuracy                           0.96      1969\n",
      "   macro avg       0.93      0.94      0.94      1969\n",
      "weighted avg       0.96      0.96      0.96      1969\n",
      "\n"
     ]
    }
   ],
   "source": [
    "from sklearn.metrics import accuracy_score, confusion_matrix, classification_report\n",
    "\n",
    "# Convert continuous predictions to binary values (for binary classification)\n",
    "y_pred_binary = (predictions >= 0.5).astype(int)\n",
    "\n",
    "# Evaluate accuracy\n",
    "accuracy = accuracy_score(y_test, y_pred_binary)\n",
    "print(f\"Accuracy: {accuracy}\")\n",
    "\n",
    "# Confusion matrix\n",
    "print(\"Confusion Matrix:\")\n",
    "print(confusion_matrix(y_test, y_pred_binary))\n",
    "\n",
    "# Classification report\n",
    "print(\"Classification Report:\")\n",
    "print(classification_report(y_test, y_pred_binary))\n",
    "\n"
   ]
  }
 ],
 "metadata": {
  "kaggle": {
   "accelerator": "nvidiaTeslaT4",
   "dataSources": [
    {
     "datasetId": 6372118,
     "sourceId": 10295470,
     "sourceType": "datasetVersion"
    }
   ],
   "dockerImageVersionId": 30823,
   "isGpuEnabled": true,
   "isInternetEnabled": true,
   "language": "python",
   "sourceType": "notebook"
  },
  "kernelspec": {
   "display_name": "Python 3",
   "language": "python",
   "name": "python3"
  },
  "language_info": {
   "codemirror_mode": {
    "name": "ipython",
    "version": 3
   },
   "file_extension": ".py",
   "mimetype": "text/x-python",
   "name": "python",
   "nbconvert_exporter": "python",
   "pygments_lexer": "ipython3",
   "version": "3.10.12"
  },
  "papermill": {
   "default_parameters": {},
   "duration": 11.841106,
   "end_time": "2024-12-26T12:03:10.215896",
   "environment_variables": {},
   "exception": null,
   "input_path": "__notebook__.ipynb",
   "output_path": "__notebook__.ipynb",
   "parameters": {},
   "start_time": "2024-12-26T12:02:58.374790",
   "version": "2.6.0"
  }
 },
 "nbformat": 4,
 "nbformat_minor": 5
}
